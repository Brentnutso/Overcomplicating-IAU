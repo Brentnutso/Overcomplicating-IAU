{
 "cells": [
  {
   "cell_type": "markdown",
   "metadata": {},
   "source": [
    "# Assignment 1 - Deep Learning\n",
    "# 2210009123 - Yosef Ahmed - 9MA1\n",
    "Created with Python 3.11.0"
   ]
  },
  {
   "cell_type": "markdown",
   "metadata": {},
   "source": [
    "## Function Imports:"
   ]
  },
  {
   "cell_type": "code",
   "execution_count": 4,
   "metadata": {},
   "outputs": [],
   "source": [
    "import torch\n",
    "import pandas as pd\n",
    "import numpy as np\n",
    "import os\n",
    "import matplotlib.pyplot as plt\n",
    "\n"
   ]
  },
  {
   "cell_type": "markdown",
   "metadata": {},
   "source": [
    "## Loading the iris dataset and splitting into training and testing datasets"
   ]
  },
  {
   "cell_type": "code",
   "execution_count": 6,
   "metadata": {},
   "outputs": [
    {
     "name": "stdout",
     "output_type": "stream",
     "text": [
      "     sepal_l  sepal_w  petal_l  petal_w\n",
      "52       6.9      3.1      4.9      1.5\n",
      "123      6.3      2.7      4.9      1.8\n",
      "143      6.8      3.2      5.9      2.3\n",
      "45       4.8      3.0      1.4      0.3\n",
      "102      7.1      3.0      5.9      2.1\n",
      "..       ...      ...      ...      ...\n",
      "89       5.5      2.5      4.0      1.3\n",
      "149      5.9      3.0      5.1      1.8\n",
      "111      6.4      2.7      5.3      1.9\n",
      "6        4.6      3.4      1.4      0.3\n",
      "86       6.7      3.1      4.7      1.5\n",
      "\n",
      "[120 rows x 4 columns]      sepal_l  sepal_w  petal_l  petal_w\n",
      "47       4.6      3.2      1.4      0.2\n",
      "54       6.5      2.8      4.6      1.5\n",
      "42       4.4      3.2      1.3      0.2\n",
      "138      6.0      3.0      4.8      1.8\n",
      "63       6.1      2.9      4.7      1.4\n",
      "0        5.1      3.5      1.4      0.2\n",
      "104      6.5      3.0      5.8      2.2\n",
      "13       4.3      3.0      1.1      0.1\n",
      "128      6.4      2.8      5.6      2.1\n",
      "66       5.6      3.0      4.5      1.5\n",
      "94       5.6      2.7      4.2      1.3\n",
      "92       5.8      2.6      4.0      1.2\n",
      "120      6.9      3.2      5.7      2.3\n",
      "97       6.2      2.9      4.3      1.3\n",
      "59       5.2      2.7      3.9      1.4\n",
      "64       5.6      2.9      3.6      1.3\n",
      "1        4.9      3.0      1.4      0.2\n",
      "12       4.8      3.0      1.4      0.1\n",
      "31       5.4      3.4      1.5      0.4\n",
      "28       5.2      3.4      1.4      0.2\n",
      "57       4.9      2.4      3.3      1.0\n",
      "71       6.1      2.8      4.0      1.3\n",
      "7        5.0      3.4      1.5      0.2\n",
      "49       5.0      3.3      1.4      0.2\n",
      "14       5.8      4.0      1.2      0.2\n",
      "100      6.3      3.3      6.0      2.5\n",
      "41       4.5      2.3      1.3      0.3\n",
      "3        4.6      3.1      1.5      0.2\n",
      "76       6.8      2.8      4.8      1.4\n",
      "91       6.1      3.0      4.6      1.4 52     1\n",
      "123    2\n",
      "143    2\n",
      "45     0\n",
      "102    2\n",
      "      ..\n",
      "89     1\n",
      "149    2\n",
      "111    2\n",
      "6      0\n",
      "86     1\n",
      "Name: species, Length: 120, dtype: int64 47     0\n",
      "54     1\n",
      "42     0\n",
      "138    2\n",
      "63     1\n",
      "0      0\n",
      "104    2\n",
      "13     0\n",
      "128    2\n",
      "66     1\n",
      "94     1\n",
      "92     1\n",
      "120    2\n",
      "97     1\n",
      "59     1\n",
      "64     1\n",
      "1      0\n",
      "12     0\n",
      "31     0\n",
      "28     0\n",
      "57     1\n",
      "71     1\n",
      "7      0\n",
      "49     0\n",
      "14     0\n",
      "100    2\n",
      "41     0\n",
      "3      0\n",
      "76     1\n",
      "91     1\n",
      "Name: species, dtype: int64\n"
     ]
    },
    {
     "name": "stderr",
     "output_type": "stream",
     "text": [
      "C:\\Users\\Yosef\\AppData\\Local\\Temp\\ipykernel_35116\\540369718.py:8: FutureWarning: Downcasting behavior in `replace` is deprecated and will be removed in a future version. To retain the old behavior, explicitly call `result.infer_objects(copy=False)`. To opt-in to the future behavior, set `pd.set_option('future.no_silent_downcasting', True)`\n",
      "  df = df.replace({\"Iris-setosa\": 0, \"Iris-versicolor\": 1, \"Iris-virginica\": 2}) # Converting all text to catagorical numbers\n"
     ]
    }
   ],
   "source": [
    "from sklearn.model_selection import train_test_split\n",
    "from sklearn import metrics\n",
    "\n",
    "def load_and_clean_iris():\n",
    "    path = \"./data/iris.csv\"\n",
    "    df = pd.read_csv(path)\n",
    "    df = df.dropna()\n",
    "    df = df.replace({\"Iris-setosa\": 0, \"Iris-versicolor\": 1, \"Iris-virginica\": 2}) # Converting all text to catagorical numbers\n",
    "    return df\n",
    "\n",
    "def split_data(df):\n",
    "    X = df.drop(columns=[\"species\"]) # Removing the species column, keeping only the features columns and storing in x\n",
    "    y = df[\"species\"] # Storing the species column in y\n",
    "    X_train, X_test, y_train, y_test = train_test_split(X, y, test_size=0.3) # 30% Testing 70% Training\n",
    "    return X_train, X_test, y_train, y_test\n",
    "\n",
    "iris_df = load_and_clean_iris()\n",
    "X_train, X_test, y_train, y_test = split_data(iris_df)\n",
    "\n",
    "print(X_train, X_test, y_train, y_test)\n"
   ]
  }
 ],
 "metadata": {
  "kernelspec": {
   "display_name": "Python 3",
   "language": "python",
   "name": "python3"
  },
  "language_info": {
   "codemirror_mode": {
    "name": "ipython",
    "version": 3
   },
   "file_extension": ".py",
   "mimetype": "text/x-python",
   "name": "python",
   "nbconvert_exporter": "python",
   "pygments_lexer": "ipython3",
   "version": "3.11.0"
  }
 },
 "nbformat": 4,
 "nbformat_minor": 2
}
