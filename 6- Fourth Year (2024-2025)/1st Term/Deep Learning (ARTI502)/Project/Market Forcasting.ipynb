{
 "cells": [
  {
   "cell_type": "markdown",
   "metadata": {},
   "source": [
    "# Market Forecasting with News Analysis\n",
    "\n",
    "## 1. Setting Up the Environment\n",
    "```python\n",
    "# Install necessary libraries\n",
    "!pip install torch torchvision torchaudio\n",
    "!pip install pandas numpy scikit-learn\n",
    "!pip install requests beautifulsoup4\n",
    "!pip install nltk textblob\n",
    "!pip install gdeltdoc\n",
    "!pip install yfinance"
   ]
  },
  {
   "cell_type": "code",
   "execution_count": 27,
   "metadata": {},
   "outputs": [],
   "source": [
    "\n",
    "# The Company to analyze, the start date and end date to analyze:\n",
    "\n",
    "company = 'Nvidia'\n",
    "ticker_symbol = 'NVDA'\n",
    "start_date = '2023-01-01'\n",
    "end_date = '2023-12-31'"
   ]
  },
  {
   "cell_type": "markdown",
   "metadata": {},
   "source": [
    "# Data Collection\n",
    "## Gathering News Data"
   ]
  },
  {
   "cell_type": "code",
   "execution_count": 24,
   "metadata": {},
   "outputs": [
    {
     "name": "stdout",
     "output_type": "stream",
     "text": [
      "                                                   url  \\\n",
      "0    https://www.windowscentral.com/software-apps/n...   \n",
      "2    https://www.fool.com/investing/2023/11/07/will...   \n",
      "3    https://www.investors.com:443/research/ibd-sto...   \n",
      "7    https://www.investors.com:443/news/technology/...   \n",
      "8    https://www.tweaktown.com/news/94274/nvidia-fl...   \n",
      "..                                                 ...   \n",
      "242  https://www.benzinga.com/markets/equities/23/1...   \n",
      "244  https://www.bnnbloomberg.ca/nvidia-upgrades-pr...   \n",
      "246  https://www.newegg.com/gigabyte-geforce-rtx-40...   \n",
      "248  https://www.techtimes.com/articles/298643/2023...   \n",
      "249  https://finance.yahoo.com/news/nvidia-stock-hi...   \n",
      "\n",
      "                                            url_mobile  \\\n",
      "0                                                        \n",
      "2                                                        \n",
      "3                                                        \n",
      "7                                                        \n",
      "8                                                        \n",
      "..                                                 ...   \n",
      "242      https://www.benzinga.com/amp/content/35820417   \n",
      "244  https://www.bnnbloomberg.ca/nvidia-upgrades-pr...   \n",
      "246  https://www.newegg.com/amp/gigabyte-geforce-rt...   \n",
      "248  https://www.techtimes.com/amp/articles/298643/...   \n",
      "249                                                      \n",
      "\n",
      "                                                 title          seendate  \\\n",
      "0    NVIDIA Omniverse gets DLSS 3 . 5 and NVIDIA ce...  20231101T013000Z   \n",
      "2    Will Nvidia Still Be a Trillion - Dollar Stock...  20231107T120000Z   \n",
      "3    Nvidia Stock Unleashes Barrage Of AI Enhanceme...  20231110T173000Z   \n",
      "7    Nvidia Stock Hits Buy Point On New AI Chips Fo...  20231109T173000Z   \n",
      "8    NVIDIA flexes H100 AI GPU muscle , setting new...  20231109T083000Z   \n",
      "..                                                 ...               ...   \n",
      "242  Cramer Says Microsoft  Simply Cant Compete  Wi...  20231116T070000Z   \n",
      "244  Nvidia Upgrades Processor as Rivals Challenge ...  20231113T151500Z   \n",
      "246  GIGABYTE Gaming GeForce RTX 4090 Graphics Card...  20231005T121500Z   \n",
      "248  Nvidia Improves for AI , Adds New , Faster Fea...  20231114T073000Z   \n",
      "249           Can Nvidia Stock Hit $1 , 000 in 2024 ?   20231216T210000Z   \n",
      "\n",
      "                                           socialimage              domain  \\\n",
      "0    https://cdn.mos.cms.futurecdn.net/Pty2x3kqTQHB...  windowscentral.com   \n",
      "2    https://g.foolcdn.com/editorial/images/753806/...            fool.com   \n",
      "3    https://www.investors.com/wp-content/uploads/2...       investors.com   \n",
      "7    https://www.investors.com/wp-content/uploads/2...       investors.com   \n",
      "8    https://static.tweaktown.com/news/9/4/94274_71...       tweaktown.com   \n",
      "..                                                 ...                 ...   \n",
      "242  https://cdn.benzinga.com/files/images/story/20...        benzinga.com   \n",
      "244  http://www.bnnbloomberg.ca/polopoly_fs/1.19978...     bnnbloomberg.ca   \n",
      "246  https://c1.neweggimages.com/ProductImage/14-93...          newegg.com   \n",
      "248  https://1734811051.rsc.cdn77.org/data/images/f...       techtimes.com   \n",
      "249  https://media.zenfs.com/en/motleyfool.com/a1e6...   finance.yahoo.com   \n",
      "\n",
      "    language  sourcecountry  \n",
      "0    English  United States  \n",
      "2    English  United States  \n",
      "3    English  United States  \n",
      "7    English  United States  \n",
      "8    English  United States  \n",
      "..       ...            ...  \n",
      "242  English  United States  \n",
      "244  English         Canada  \n",
      "246  English  United States  \n",
      "248  English  United States  \n",
      "249  English  United States  \n",
      "\n",
      "[181 rows x 8 columns]\n"
     ]
    }
   ],
   "source": [
    "import pandas as pd\n",
    "import gdeltdoc\n",
    "\n",
    "# https://pypi.org/project/gdeltdoc/\n",
    "\n",
    "def fetch_gdelt_data(query, start_date, end_date):\n",
    "    gd = GdeltDoc()\n",
    "    f = Filters(\n",
    "        keyword=query,\n",
    "        start_date=start_date,\n",
    "        end_date=end_date,\n",
    "        num_records=250\n",
    "    )\n",
    "    results = gd.article_search(f)\n",
    "    return results\n",
    "\n",
    "# Example usage\n",
    "company_news_data = fetch_gdelt_data(company, start_date, end_date)\n",
    "\n",
    "# Convert to DataFrame for easier manipulation\n",
    "company_news_df = pd.DataFrame(company_news_data)\n",
    "\n",
    "# Filter out non english\n",
    "company_news_df = company_news_df[company_news_df['language'].str.lower() == 'english']\n",
    "\n",
    "print(company_news_df)"
   ]
  },
  {
   "cell_type": "markdown",
   "metadata": {},
   "source": [
    "## Gathering Stock Data"
   ]
  },
  {
   "cell_type": "code",
   "execution_count": 28,
   "metadata": {},
   "outputs": [
    {
     "name": "stderr",
     "output_type": "stream",
     "text": [
      "[*********************100%***********************]  1 of 1 completed"
     ]
    },
    {
     "name": "stdout",
     "output_type": "stream",
     "text": [
      "              Open    High     Low   Close  Adj Close     Volume\n",
      "Date                                                            \n",
      "2023-01-03  14.851  14.996  14.096  14.315  14.305580  401277000\n",
      "2023-01-04  14.567  14.853  14.241  14.749  14.739296  431324000\n",
      "2023-01-05  14.491  14.564  14.148  14.265  14.255614  389168000\n",
      "2023-01-06  14.474  15.010  14.034  14.859  14.849222  405044000\n",
      "2023-01-09  15.284  16.056  15.141  15.628  15.617718  504231000\n"
     ]
    },
    {
     "name": "stderr",
     "output_type": "stream",
     "text": [
      "\n"
     ]
    }
   ],
   "source": [
    "import yfinance as yf\n",
    "\n",
    "# Download the stock data\n",
    "stock_data = yf.download(ticker_symbol, start=start_date, end=end_date)\n",
    "\n",
    "# Display the stock data\n",
    "print(stock_data.head())"
   ]
  },
  {
   "cell_type": "markdown",
   "metadata": {},
   "source": [
    "# Sentiment Analysis\n",
    "Analysing the news of the company based on the title of the news article"
   ]
  },
  {
   "cell_type": "code",
   "execution_count": null,
   "metadata": {},
   "outputs": [],
   "source": [
    "# for company_news_df, \"seendate\" contains the date the article was published, in the form of yyyymmddThhmmssZ ex: 20231101T013000Z\n",
    "# for stock_data, \"date\" contains the date and is in the form of yyyy-mm-dd 2023-11-01"
   ]
  },
  {
   "cell_type": "markdown",
   "metadata": {},
   "source": [
    "# Model Building"
   ]
  },
  {
   "cell_type": "code",
   "execution_count": 29,
   "metadata": {},
   "outputs": [
    {
     "name": "stdout",
     "output_type": "stream",
     "text": [
      "cpu\n"
     ]
    }
   ],
   "source": [
    "import torch\n",
    "import torch.nn as nn\n",
    "import torch.optim as optim\n",
    "\n",
    "# Define the device to use GPU if available, otherwise use CPU\n",
    "device = torch.device('cuda' if torch.cuda.is_available() else 'cpu')\n",
    "print(device)\n",
    "\n",
    "class StockPredictionModel(nn.Module):\n",
    "    def __init__(self, input_size, hidden_size, num_layers, output_size):\n",
    "        super(StockPredictionModel, self).__init__()\n",
    "        self.lstm = nn.LSTM(input_size, hidden_size, num_layers, batch_first=True)\n",
    "        self.fc = nn.Linear(hidden_size, output_size)\n",
    "\n",
    "    def forward(self, x):\n",
    "        h_0 = torch.zeros(num_layers, x.size(0), hidden_size).to(device)\n",
    "        c_0 = torch.zeros(num_layers, x.size(0), hidden_size).to(device)\n",
    "        out, _ = self.lstm(x, (h_0, c_0))\n",
    "        out = self.fc(out[:, -1, :])\n",
    "        return out\n",
    "\n",
    "input_size = 1\n",
    "hidden_size = 50\n",
    "num_layers = 2\n",
    "output_size = 1\n",
    "num_epochs = 100\n",
    "learning_rate = 0.001\n",
    "\n",
    "model = StockPredictionModel(input_size, hidden_size, num_layers, output_size).to(device)\n",
    "criterion = nn.MSELoss()\n",
    "optimizer = optim.Adam(model.parameters(), lr=learning_rate)"
   ]
  }
 ],
 "metadata": {
  "kernelspec": {
   "display_name": "Python 3",
   "language": "python",
   "name": "python3"
  },
  "language_info": {
   "codemirror_mode": {
    "name": "ipython",
    "version": 3
   },
   "file_extension": ".py",
   "mimetype": "text/x-python",
   "name": "python",
   "nbconvert_exporter": "python",
   "pygments_lexer": "ipython3",
   "version": "3.11.0"
  }
 },
 "nbformat": 4,
 "nbformat_minor": 2
}
