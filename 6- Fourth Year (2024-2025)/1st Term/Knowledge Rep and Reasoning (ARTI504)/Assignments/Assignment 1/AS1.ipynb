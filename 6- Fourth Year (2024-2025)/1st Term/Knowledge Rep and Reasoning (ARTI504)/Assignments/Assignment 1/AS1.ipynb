{
 "cells": [
  {
   "cell_type": "markdown",
   "metadata": {},
   "source": [
    "# Hospital"
   ]
  },
  {
   "cell_type": "code",
   "execution_count": 7,
   "metadata": {},
   "outputs": [
    {
     "data": {
      "text/plain": [
       "'hospital_uml_diagram.pdf'"
      ]
     },
     "execution_count": 7,
     "metadata": {},
     "output_type": "execute_result"
    }
   ],
   "source": [
    "from graphviz import Digraph\n",
    "\n",
    "# Create a new directed graph\n",
    "dot = Digraph(comment='Hospital UML/EER Diagram')\n",
    "\n",
    "# Define the entities (nodes)\n",
    "dot.node('P', 'Person', shape='box', style='rounded')\n",
    "dot.node('D', 'Doctor', shape='box', style='rounded')\n",
    "dot.node('PAT', 'Patient', shape='box', style='rounded')\n",
    "dot.node('R', 'Room', shape='box', style='rounded')\n",
    "dot.node('DIAG', 'Diagnosis', shape='box', style='rounded')\n",
    "dot.node('T', 'Treatment', shape='box', style='rounded')\n",
    "\n",
    "# Define the relationships (edges) with cardinalities and names\n",
    "dot.edge('P', 'D', label='is a\\n1..1 - 0..*', arrowhead='none')  # Person to Doctor\n",
    "dot.edge('P', 'PAT', label='is a\\n1..1 - 0..*', arrowhead='none')  # Person to Patient\n",
    "dot.edge('D', 'PAT', label='treats\\n1..* - 0..*', arrowhead='none')  # Doctor to Patient\n",
    "dot.edge('R', 'PAT', label='contains\\n1..1 - 1..1', arrowhead='none')  # Room to Patient\n",
    "dot.edge('PAT', 'DIAG', label='has\\n1..* - 1..*', arrowhead='none')  # Patient to Diagnosis\n",
    "dot.edge('DIAG', 'T', label='involves\\n1..* - 1..*', arrowhead='none')  # Diagnosis to Treatment\n",
    "dot.edge('D', 'T', label='administers\\n1..* - 1..*', arrowhead='none')  # Doctor to Treatment\n",
    "\n",
    "# Explicitly showing the constraints for Patient regarding Diagnosis and Room\n",
    "dot.node('C1', '∃hasDiagnosis.Diagnosis', shape='ellipse', style='dashed')\n",
    "dot.node('C2', '≤1 hasRoom.Room', shape='ellipse', style='dashed')\n",
    "\n",
    "# Draw edges to connect Patient with the constraints\n",
    "dot.edge('PAT', 'C1', label='must have', arrowhead='none')  # Patient to Diagnosis constraint\n",
    "dot.edge('PAT', 'C2', label='can have at most', arrowhead='none')  # Patient to Room constraint\n",
    "\n",
    "# Render the graph to a file and visualize it\n",
    "dot.render('hospital_uml_diagram', format='png', cleanup=True)  # Save as PNG and clean up\n",
    "dot.view()  # Open the generated image\n"
   ]
  },
  {
   "cell_type": "markdown",
   "metadata": {},
   "source": [
    "# Checking"
   ]
  },
  {
   "cell_type": "code",
   "execution_count": 10,
   "metadata": {},
   "outputs": [
    {
     "data": {
      "text/plain": [
       "'hospital_uml_diagram_disjoint_contradiction.pdf'"
      ]
     },
     "execution_count": 10,
     "metadata": {},
     "output_type": "execute_result"
    }
   ],
   "source": [
    "from graphviz import Digraph\n",
    "\n",
    "# Create a new directed graph\n",
    "dot = Digraph(comment='Hospital UML/EER Diagram with Contradiction')\n",
    "\n",
    "# Define the entities (nodes)\n",
    "dot.node('P', 'Person', shape='box', style='rounded')\n",
    "dot.node('D', 'Doctor', shape='box', style='rounded')\n",
    "dot.node('PAT', 'Patient', shape='box', style='rounded')\n",
    "\n",
    "# Define the disjoint relationships\n",
    "dot.edge('D', 'PAT', label='disjoint', arrowhead='none')  # Doctor and Patient are disjoint\n",
    "\n",
    "# Define the relationship for Person\n",
    "dot.edge('P', 'D', label='is a\\n1..1 - 0..*', arrowhead='none')  # Person to Doctor\n",
    "dot.edge('P', 'PAT', label='is a\\n1..1 - 0..*', arrowhead='none')  # Person to Patient\n",
    "\n",
    "# Add a note about the contradiction\n",
    "dot.node('C', 'Contradiction: \\nA Person cannot be both a Doctor \\nand a Patient', shape='ellipse', style='dashed')\n",
    "dot.edge('P', 'C', label='implies\\n', arrowhead='none')  # Connect to contradiction\n",
    "\n",
    "# Render the graph to a file and visualize it\n",
    "dot.render('hospital_uml_diagram_disjoint_contradiction', format='png', cleanup=True)  # Save as PNG and clean up\n",
    "dot.view()  # Open the generated image\n"
   ]
  }
 ],
 "metadata": {
  "kernelspec": {
   "display_name": "Python 3",
   "language": "python",
   "name": "python3"
  },
  "language_info": {
   "codemirror_mode": {
    "name": "ipython",
    "version": 3
   },
   "file_extension": ".py",
   "mimetype": "text/x-python",
   "name": "python",
   "nbconvert_exporter": "python",
   "pygments_lexer": "ipython3",
   "version": "3.11.0"
  }
 },
 "nbformat": 4,
 "nbformat_minor": 2
}
