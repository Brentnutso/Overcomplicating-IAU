{
 "cells": [
  {
   "cell_type": "markdown",
   "id": "19c30eda",
   "metadata": {},
   "source": [
    "### ARTI 402 - Week 6"
   ]
  },
  {
   "cell_type": "markdown",
   "id": "47b3f2f2",
   "metadata": {},
   "source": [
    "### Number of arguments"
   ]
  },
  {
   "cell_type": "code",
   "execution_count": null,
   "id": "288156e5",
   "metadata": {},
   "outputs": [],
   "source": [
    "#would this work?\n",
    "max(1,2)"
   ]
  },
  {
   "cell_type": "code",
   "execution_count": null,
   "id": "0ed49e40",
   "metadata": {},
   "outputs": [],
   "source": [
    "#would this work?\n",
    "max(1,2,3,4,5)"
   ]
  },
  {
   "cell_type": "code",
   "execution_count": null,
   "id": "ec4acdd0",
   "metadata": {},
   "outputs": [],
   "source": [
    "#would this work?\n",
    "max(1)"
   ]
  },
  {
   "cell_type": "code",
   "execution_count": null,
   "id": "c2ebcfe8",
   "metadata": {},
   "outputs": [],
   "source": [
    "#would this work?\n",
    "min(1,2,3,4,5)"
   ]
  },
  {
   "cell_type": "code",
   "execution_count": null,
   "id": "d31b607d",
   "metadata": {},
   "outputs": [],
   "source": [
    "#What is the outout?\n",
    "len((1,2,3))"
   ]
  },
  {
   "cell_type": "code",
   "execution_count": null,
   "id": "d05f4ff8",
   "metadata": {},
   "outputs": [],
   "source": [
    "#What is the minimum number of arguments for myFunction?\n",
    "#What is the maximum number of arguments for myFunction?\n",
    "\n",
    "def myFunction(*v):\n",
    "    print(v)"
   ]
  },
  {
   "cell_type": "code",
   "execution_count": null,
   "id": "19f02823",
   "metadata": {},
   "outputs": [],
   "source": [
    "myFunction(1,2,3)"
   ]
  },
  {
   "cell_type": "code",
   "execution_count": null,
   "id": "8c9566e5",
   "metadata": {},
   "outputs": [],
   "source": [
    "#What is the minimum number of arguments for myFunction?\n",
    "#What is the maximum number of arguments for myFunction?\n",
    "\n",
    "def myFunction(*v,a,b):\n",
    "    print(v)\n"
   ]
  },
  {
   "cell_type": "code",
   "execution_count": null,
   "id": "bdfe34a4",
   "metadata": {},
   "outputs": [],
   "source": [
    "myFunction(1,2,3,a=5,b=6)"
   ]
  },
  {
   "cell_type": "code",
   "execution_count": null,
   "id": "e07ccac8",
   "metadata": {},
   "outputs": [],
   "source": [
    "#What is the minimum number of arguments?\n",
    "#What is the maximum number of arguments?\n",
    "\n",
    "def myFunction(a,b=5,*v):\n",
    "    print(v)\n",
    "\n",
    "#myFunction()"
   ]
  },
  {
   "cell_type": "code",
   "execution_count": null,
   "id": "6a6c2206",
   "metadata": {},
   "outputs": [],
   "source": [
    "myFunction(1)"
   ]
  },
  {
   "cell_type": "code",
   "execution_count": null,
   "id": "d1782292",
   "metadata": {},
   "outputs": [],
   "source": [
    "#would this work? What would be the output?\n",
    "myFunction(1,2,3,a=4,b=5)"
   ]
  },
  {
   "cell_type": "code",
   "execution_count": null,
   "id": "3674ab3a",
   "metadata": {},
   "outputs": [],
   "source": [
    "#What is the minimum number of arguments for myFunction?\n",
    "#What is the maximum number of arguments for myFunction?\n",
    "\n",
    "def myFunction(**v):\n",
    "    print(v)\n"
   ]
  },
  {
   "cell_type": "code",
   "execution_count": null,
   "id": "1b142c33",
   "metadata": {},
   "outputs": [],
   "source": [
    "# calling myFunction()\n",
    "myFunction()"
   ]
  },
  {
   "cell_type": "code",
   "execution_count": null,
   "id": "f9b3574e",
   "metadata": {},
   "outputs": [],
   "source": [
    "#What is the minimum number of arguments?\n",
    "#What is the maximum number of arguments?\n",
    "\n",
    "def myFunction(a,b,**v):\n",
    "    print(v)\n",
    "\n"
   ]
  },
  {
   "cell_type": "code",
   "execution_count": null,
   "id": "6f81d383",
   "metadata": {},
   "outputs": [],
   "source": [
    "myFunction(1,2)"
   ]
  },
  {
   "cell_type": "code",
   "execution_count": null,
   "id": "0e0a71b4",
   "metadata": {},
   "outputs": [],
   "source": [
    "#would this work? What would be the output?\n",
    "myFunction(1,2,key=1)"
   ]
  },
  {
   "cell_type": "code",
   "execution_count": null,
   "id": "691e9569",
   "metadata": {},
   "outputs": [],
   "source": [
    "# *args is teh last arugment\n",
    "def myFunction(a,b,*v):\n",
    "    print(v)\n"
   ]
  },
  {
   "cell_type": "code",
   "execution_count": null,
   "id": "344d6968",
   "metadata": {},
   "outputs": [],
   "source": [
    "#would this work? What would be the output?\n",
    "myFunction(1,2,3,4,5)"
   ]
  },
  {
   "cell_type": "code",
   "execution_count": null,
   "id": "f8b60509",
   "metadata": {},
   "outputs": [],
   "source": [
    "#kwargs is the first argument. \n",
    "def myFunction(**v,a,b):\n",
    "    print(v)\n"
   ]
  },
  {
   "cell_type": "code",
   "execution_count": null,
   "id": "800f3370",
   "metadata": {},
   "outputs": [],
   "source": [
    "# Would this work? What would be the output?\n",
    "myFunction(key1=1,key2=2,key3=3,a=4,b=5)"
   ]
  },
  {
   "cell_type": "markdown",
   "id": "47598dae",
   "metadata": {},
   "source": [
    "#### What do you notice about the position of **var?"
   ]
  },
  {
   "cell_type": "code",
   "execution_count": null,
   "id": "ef146776",
   "metadata": {},
   "outputs": [],
   "source": [
    "#having *args and **kwargs together\n",
    "\n",
    "def Func(*args,**kwargs):\n",
    "    \n",
    "    for arg in args:\n",
    "        print(arg)\n",
    "    for item in kwargs.items():\n",
    "        print(item)\n"
   ]
  },
  {
   "cell_type": "code",
   "execution_count": null,
   "id": "35940cc7",
   "metadata": {},
   "outputs": [],
   "source": [
    "#would this run? what is the output?\n",
    "Func(1,2,3,4)"
   ]
  },
  {
   "cell_type": "code",
   "execution_count": null,
   "id": "0b761027",
   "metadata": {},
   "outputs": [],
   "source": [
    "#would this run? what is the output?\n",
    "\n",
    "def Func(*args,**kwargs):\n",
    "    \n",
    "    for arg in args:\n",
    "        print(arg)\n",
    "    for item in kwargs.items():\n",
    "        print(item)\n",
    "\n",
    "Func(1,2,3,4,key5=5,key6=6)"
   ]
  },
  {
   "cell_type": "code",
   "execution_count": null,
   "id": "87751912",
   "metadata": {},
   "outputs": [],
   "source": [
    "#Would this work? What would be the output?\n",
    "\n",
    "Func(key1=1,2,3,4,key4=4)"
   ]
  },
  {
   "cell_type": "markdown",
   "id": "f694f892",
   "metadata": {},
   "source": [
    "### Function Return"
   ]
  },
  {
   "cell_type": "code",
   "execution_count": null,
   "id": "7351718c",
   "metadata": {},
   "outputs": [],
   "source": [
    "#printing after return\n",
    "def test():\n",
    "    return 5\n",
    "    print('After return')\n",
    "\n",
    "test()"
   ]
  },
  {
   "cell_type": "code",
   "execution_count": null,
   "id": "fb021d78",
   "metadata": {},
   "outputs": [],
   "source": [
    "#what would be the output?\n",
    "type(test())"
   ]
  },
  {
   "cell_type": "code",
   "execution_count": null,
   "id": "f34327ac",
   "metadata": {},
   "outputs": [],
   "source": [
    "def test():\n",
    "    return \n",
    "    print('After return')\n"
   ]
  },
  {
   "cell_type": "code",
   "execution_count": null,
   "id": "d3bf34ff",
   "metadata": {},
   "outputs": [],
   "source": [
    "#what would be the output?\n",
    "type(test())"
   ]
  },
  {
   "cell_type": "code",
   "execution_count": null,
   "id": "2adaa426",
   "metadata": {},
   "outputs": [],
   "source": [
    "def test():\n",
    "    pass\n",
    "    print('hi')\n",
    "     \n",
    "\n",
    "type(test())"
   ]
  },
  {
   "cell_type": "markdown",
   "id": "61b757aa",
   "metadata": {},
   "source": [
    "### Returning multiple values"
   ]
  },
  {
   "cell_type": "code",
   "execution_count": null,
   "id": "2cdb4d74",
   "metadata": {},
   "outputs": [],
   "source": [
    "def myFunction():\n",
    "    return 1,2,3"
   ]
  },
  {
   "cell_type": "code",
   "execution_count": null,
   "id": "c6367c6a",
   "metadata": {},
   "outputs": [],
   "source": [
    "type(myFunction())"
   ]
  },
  {
   "cell_type": "code",
   "execution_count": null,
   "id": "13274a16",
   "metadata": {},
   "outputs": [],
   "source": [
    "def myFunction():\n",
    "    return \"abc\", 12, [34,14], 23, 23, \"Python\""
   ]
  },
  {
   "cell_type": "code",
   "execution_count": null,
   "id": "4a504202",
   "metadata": {},
   "outputs": [],
   "source": [
    "print(type(myFunction()))"
   ]
  },
  {
   "cell_type": "code",
   "execution_count": null,
   "id": "9ac21435",
   "metadata": {},
   "outputs": [],
   "source": [
    "# what is the length of myFunction()?\n",
    "print(len(myFunction()))"
   ]
  },
  {
   "cell_type": "code",
   "execution_count": null,
   "id": "0587a6a4",
   "metadata": {},
   "outputs": [],
   "source": [
    "print(myFunction())"
   ]
  },
  {
   "cell_type": "code",
   "execution_count": null,
   "id": "8496ec5d",
   "metadata": {},
   "outputs": [],
   "source": [
    "#Multiple return statements\n",
    "def myFunction():\n",
    "    return 1\n",
    "    return 2\n",
    "    return 3"
   ]
  },
  {
   "cell_type": "code",
   "execution_count": null,
   "id": "90c8cf19",
   "metadata": {},
   "outputs": [],
   "source": [
    "#would this run? What would be the output?\n",
    "myFunction()"
   ]
  },
  {
   "cell_type": "markdown",
   "id": "717d33ad",
   "metadata": {},
   "source": [
    "### Returning multiple values in one variable"
   ]
  },
  {
   "cell_type": "code",
   "execution_count": null,
   "id": "27e8a2f0",
   "metadata": {},
   "outputs": [],
   "source": [
    "def myFunction():\n",
    "    return \"abc\", 12, [34,14], 23, 23, \"Python\""
   ]
  },
  {
   "cell_type": "code",
   "execution_count": null,
   "id": "44475cc6",
   "metadata": {},
   "outputs": [],
   "source": [
    "*P,st = myFunction()"
   ]
  },
  {
   "cell_type": "code",
   "execution_count": null,
   "id": "e7aba369",
   "metadata": {},
   "outputs": [],
   "source": [
    "type(P)"
   ]
  },
  {
   "cell_type": "code",
   "execution_count": null,
   "id": "0542d37e",
   "metadata": {},
   "outputs": [],
   "source": [
    "P"
   ]
  },
  {
   "cell_type": "code",
   "execution_count": null,
   "id": "80d3de38",
   "metadata": {},
   "outputs": [],
   "source": [
    "def myFunction():\n",
    "    return \"abc\", 12, [34,14], 23, 23, \"Python\""
   ]
  },
  {
   "cell_type": "code",
   "execution_count": null,
   "id": "42a53091",
   "metadata": {},
   "outputs": [],
   "source": [
    "*P,n,s = myFunction()"
   ]
  },
  {
   "cell_type": "code",
   "execution_count": null,
   "id": "d3ed99a7",
   "metadata": {},
   "outputs": [],
   "source": [
    "len(P)"
   ]
  },
  {
   "cell_type": "code",
   "execution_count": null,
   "id": "c152c8b1",
   "metadata": {},
   "outputs": [],
   "source": [
    "type(P)"
   ]
  },
  {
   "cell_type": "code",
   "execution_count": null,
   "id": "a1e81e66",
   "metadata": {},
   "outputs": [],
   "source": [
    "type(n)"
   ]
  },
  {
   "cell_type": "code",
   "execution_count": null,
   "id": "4777759f",
   "metadata": {},
   "outputs": [],
   "source": [
    "type(s)"
   ]
  },
  {
   "cell_type": "code",
   "execution_count": null,
   "id": "5320d0d0",
   "metadata": {},
   "outputs": [],
   "source": [
    "def myFunction():\n",
    "    return \"abc\", 12, [34,14], 23, 23, \"Python\""
   ]
  },
  {
   "cell_type": "code",
   "execution_count": null,
   "id": "807716f6",
   "metadata": {},
   "outputs": [],
   "source": [
    "a,b,c,*P = myFunction()"
   ]
  },
  {
   "cell_type": "code",
   "execution_count": null,
   "id": "94d2f5b4",
   "metadata": {},
   "outputs": [],
   "source": [
    "len(P)"
   ]
  },
  {
   "cell_type": "code",
   "execution_count": null,
   "id": "6d498407",
   "metadata": {},
   "outputs": [],
   "source": [
    "type(a)"
   ]
  },
  {
   "cell_type": "code",
   "execution_count": null,
   "id": "f455ab70",
   "metadata": {},
   "outputs": [],
   "source": [
    "type(b)"
   ]
  },
  {
   "cell_type": "code",
   "execution_count": null,
   "id": "48461fa1",
   "metadata": {},
   "outputs": [],
   "source": [
    "type(c)"
   ]
  },
  {
   "cell_type": "code",
   "execution_count": null,
   "id": "57bbee71",
   "metadata": {},
   "outputs": [],
   "source": [
    "type(P)"
   ]
  },
  {
   "cell_type": "code",
   "execution_count": null,
   "id": "6c1411aa",
   "metadata": {},
   "outputs": [],
   "source": [
    "P"
   ]
  },
  {
   "cell_type": "code",
   "execution_count": null,
   "id": "9c20f7d3",
   "metadata": {},
   "outputs": [],
   "source": [
    "def myFunction():\n",
    "    return \"abc\", 12, [34,14], 23, 23, \"Python\""
   ]
  },
  {
   "cell_type": "code",
   "execution_count": null,
   "id": "d7474af0",
   "metadata": {},
   "outputs": [],
   "source": [
    "a,*P,c = myFunction()"
   ]
  },
  {
   "cell_type": "code",
   "execution_count": null,
   "id": "c45367e3",
   "metadata": {},
   "outputs": [],
   "source": [
    "type(a)"
   ]
  },
  {
   "cell_type": "code",
   "execution_count": null,
   "id": "2c376648",
   "metadata": {},
   "outputs": [],
   "source": [
    "type(P)"
   ]
  },
  {
   "cell_type": "code",
   "execution_count": null,
   "id": "8fbbd2c6",
   "metadata": {},
   "outputs": [],
   "source": [
    "type(c)"
   ]
  },
  {
   "cell_type": "code",
   "execution_count": null,
   "id": "6fd7688b",
   "metadata": {},
   "outputs": [],
   "source": [
    "def myFunction():\n",
    "    return \"abc\", 12, [34,14], 23, 23, \"Python\""
   ]
  },
  {
   "cell_type": "markdown",
   "id": "8c9519de",
   "metadata": {},
   "source": [
    "### Skipping return values"
   ]
  },
  {
   "cell_type": "code",
   "execution_count": null,
   "id": "6adf2057",
   "metadata": {},
   "outputs": [],
   "source": [
    "a,_,*P,c,_ = myFunction()"
   ]
  },
  {
   "cell_type": "code",
   "execution_count": null,
   "id": "7cb19b60",
   "metadata": {},
   "outputs": [],
   "source": [
    "len(P)"
   ]
  },
  {
   "cell_type": "code",
   "execution_count": null,
   "id": "1c720bfd",
   "metadata": {},
   "outputs": [],
   "source": [
    "type(a)"
   ]
  },
  {
   "cell_type": "code",
   "execution_count": null,
   "id": "be305e59",
   "metadata": {},
   "outputs": [],
   "source": [
    "type(P)"
   ]
  },
  {
   "cell_type": "code",
   "execution_count": null,
   "id": "7b62ed0f",
   "metadata": {},
   "outputs": [],
   "source": [
    "P"
   ]
  },
  {
   "cell_type": "code",
   "execution_count": null,
   "id": "762a37df",
   "metadata": {},
   "outputs": [],
   "source": [
    "type(c)"
   ]
  },
  {
   "cell_type": "markdown",
   "id": "0428eecd",
   "metadata": {},
   "source": [
    "### Lambda function"
   ]
  },
  {
   "cell_type": "code",
   "execution_count": null,
   "id": "ae25b5ae",
   "metadata": {},
   "outputs": [],
   "source": [
    "sum = lambda: 5"
   ]
  },
  {
   "cell_type": "code",
   "execution_count": null,
   "id": "6fa56fa0",
   "metadata": {},
   "outputs": [],
   "source": [
    "type(sum())"
   ]
  },
  {
   "cell_type": "code",
   "execution_count": null,
   "id": "f213e2f4",
   "metadata": {},
   "outputs": [],
   "source": [
    "a = sum()\n",
    "print(a)"
   ]
  },
  {
   "cell_type": "code",
   "execution_count": null,
   "id": "376ac9e9",
   "metadata": {},
   "outputs": [],
   "source": [
    "sum = lambda x: 5"
   ]
  },
  {
   "cell_type": "code",
   "execution_count": null,
   "id": "144ed1fb",
   "metadata": {},
   "outputs": [],
   "source": [
    "#Nested if with lambda\n",
    "result = lambda x : \"even\" if x %2==0 else \"odd\""
   ]
  },
  {
   "cell_type": "code",
   "execution_count": null,
   "id": "60e544cf",
   "metadata": {},
   "outputs": [],
   "source": [
    "result(5)"
   ]
  },
  {
   "cell_type": "code",
   "execution_count": null,
   "id": "948cd287",
   "metadata": {},
   "outputs": [],
   "source": [
    "#overriding built-in functions\n",
    "float = lambda x: 5"
   ]
  },
  {
   "cell_type": "code",
   "execution_count": null,
   "id": "4b03908a",
   "metadata": {},
   "outputs": [],
   "source": [
    "float(10)"
   ]
  },
  {
   "cell_type": "code",
   "execution_count": null,
   "id": "6955f58c",
   "metadata": {},
   "outputs": [],
   "source": [
    "#getting back the original built-in function\n",
    "del float"
   ]
  },
  {
   "cell_type": "code",
   "execution_count": null,
   "id": "7112d9d6",
   "metadata": {},
   "outputs": [],
   "source": [
    "float(10)"
   ]
  },
  {
   "cell_type": "code",
   "execution_count": null,
   "id": "75a69215",
   "metadata": {},
   "outputs": [],
   "source": []
  },
  {
   "cell_type": "markdown",
   "id": "0585b58c",
   "metadata": {},
   "source": [
    "### Filter Function"
   ]
  },
  {
   "cell_type": "code",
   "execution_count": null,
   "id": "8d13d690",
   "metadata": {},
   "outputs": [],
   "source": [
    "my_list = [1,5,4,6,8,11,3,12]"
   ]
  },
  {
   "cell_type": "code",
   "execution_count": null,
   "id": "2bbb93d4",
   "metadata": {},
   "outputs": [],
   "source": [
    "list(filter(lambda x: (x%2 == 0),my_list))"
   ]
  },
  {
   "cell_type": "code",
   "execution_count": null,
   "id": "8378acc1",
   "metadata": {},
   "outputs": [],
   "source": [
    "#Would myList be affected?\n",
    "my_list"
   ]
  },
  {
   "cell_type": "code",
   "execution_count": null,
   "id": "10260f6a",
   "metadata": {},
   "outputs": [],
   "source": [
    "#equivelent to:\n",
    "def getEven(x):\n",
    "    if x%2 ==0:\n",
    "        return x\n",
    "    else:\n",
    "        return\n",
    "list(filter(getEven,my_list))"
   ]
  },
  {
   "cell_type": "code",
   "execution_count": null,
   "id": "f512d9b9",
   "metadata": {},
   "outputs": [],
   "source": [
    "#Can filter method take a type?\n",
    "myTuple = (1,2,3,4,5,6,7)\n",
    "tuple(filter(lambda x: (x%2 == 0),myTuple))"
   ]
  },
  {
   "cell_type": "code",
   "execution_count": null,
   "id": "85c76823",
   "metadata": {},
   "outputs": [],
   "source": [
    "### Map"
   ]
  },
  {
   "cell_type": "code",
   "execution_count": null,
   "id": "bcdcb00d",
   "metadata": {},
   "outputs": [],
   "source": [
    "my_list"
   ]
  },
  {
   "cell_type": "markdown",
   "id": "a724f982",
   "metadata": {},
   "source": [
    "### Filter vs Map"
   ]
  },
  {
   "cell_type": "code",
   "execution_count": null,
   "id": "c5b8c80d",
   "metadata": {},
   "outputs": [],
   "source": [
    "my_list = [1,5,4,6,8,11,3,12]"
   ]
  },
  {
   "cell_type": "code",
   "execution_count": null,
   "id": "606850c3",
   "metadata": {},
   "outputs": [],
   "source": [
    "list(filter(lambda x: x%2 == 0,my_list))"
   ]
  },
  {
   "cell_type": "code",
   "execution_count": null,
   "id": "b1477054",
   "metadata": {},
   "outputs": [],
   "source": [
    "list(map(lambda x: x%2 == 0,my_list))"
   ]
  },
  {
   "cell_type": "code",
   "execution_count": null,
   "id": "58ee4207",
   "metadata": {},
   "outputs": [],
   "source": [
    "list(filter(lambda x: x> 7,my_list))"
   ]
  },
  {
   "cell_type": "code",
   "execution_count": null,
   "id": "2de352ae",
   "metadata": {},
   "outputs": [],
   "source": [
    "list(map(lambda x: x> 7,my_list))"
   ]
  },
  {
   "cell_type": "markdown",
   "id": "8dc27652",
   "metadata": {},
   "source": [
    "#### What do you notice about the size of the returned lists in filter and map?"
   ]
  },
  {
   "cell_type": "markdown",
   "id": "ef134bfc",
   "metadata": {},
   "source": [
    "### ignoring the default and the order of the default argument"
   ]
  },
  {
   "cell_type": "code",
   "execution_count": null,
   "id": "6eff5e9a",
   "metadata": {},
   "outputs": [],
   "source": [
    "def printInfo(fname,lastname,age=35):\n",
    "    print('The first name is: ', fname)\n",
    "    print('The last name is: ', lastname)\n",
    "    print('The age is: ', age)\n",
    "    \n",
    "printInfo('Ahmad','Khalid')"
   ]
  },
  {
   "cell_type": "code",
   "execution_count": null,
   "id": "fdc04860",
   "metadata": {},
   "outputs": [],
   "source": [
    "def printInfo(age=35,fname,lastname):\n",
    "    print('The first name is: ', fname)\n",
    "    print('The last name is: ', lastname)\n",
    "    print('The age is: ', age)\n",
    "    \n",
    "printInfo('Ahmad','Khalid')"
   ]
  },
  {
   "cell_type": "markdown",
   "id": "9b528329",
   "metadata": {},
   "source": [
    "#### What do you notice? Does the position of the default argument matter?"
   ]
  },
  {
   "cell_type": "code",
   "execution_count": null,
   "id": "7caeec0c",
   "metadata": {},
   "outputs": [],
   "source": [
    "def printInfo(fname,lastname,age=20):\n",
    "    print('The first name is: ', fname)\n",
    "    print('The last name is: ', lastname)\n",
    "    print('The age is: ', age)\n",
    "    \n",
    "    return"
   ]
  },
  {
   "cell_type": "code",
   "execution_count": null,
   "id": "f65b3d43",
   "metadata": {},
   "outputs": [],
   "source": [
    "printInfo('Ali','Ahmad',40)"
   ]
  },
  {
   "cell_type": "markdown",
   "id": "3699011e",
   "metadata": {},
   "source": [
    "#### Lambda function with condition"
   ]
  },
  {
   "cell_type": "code",
   "execution_count": null,
   "id": "7ead27ab",
   "metadata": {},
   "outputs": [],
   "source": [
    "condition = lambda x: x*2 if x%2==0 else x"
   ]
  },
  {
   "cell_type": "code",
   "execution_count": null,
   "id": "b78a5759",
   "metadata": {},
   "outputs": [],
   "source": [
    "my_list = [1,5,4,6,8,11,3,12]"
   ]
  },
  {
   "cell_type": "code",
   "execution_count": null,
   "id": "ae3e1fd6",
   "metadata": {},
   "outputs": [],
   "source": [
    "list(map(condition,my_list))"
   ]
  },
  {
   "cell_type": "code",
   "execution_count": null,
   "id": "72004651",
   "metadata": {},
   "outputs": [],
   "source": []
  }
 ],
 "metadata": {
  "kernelspec": {
   "display_name": "Python 3 (ipykernel)",
   "language": "python",
   "name": "python3"
  },
  "language_info": {
   "codemirror_mode": {
    "name": "ipython",
    "version": 3
   },
   "file_extension": ".py",
   "mimetype": "text/x-python",
   "name": "python",
   "nbconvert_exporter": "python",
   "pygments_lexer": "ipython3",
   "version": "3.11.4"
  }
 },
 "nbformat": 4,
 "nbformat_minor": 5
}
